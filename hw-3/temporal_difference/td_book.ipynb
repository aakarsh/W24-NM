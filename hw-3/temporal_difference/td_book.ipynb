{
 "cells": [
  {
   "cell_type": "markdown",
   "metadata": {},
   "source": [
    "    Recreate Figure 9.2 (page 15) of the Book Chapter we provided.\n",
    "\n",
    "    Experiment with the following parameters. \n",
    "    Plot and briefly describe your observations for each.\n",
    "\n",
    "        * Reward timing ()\n",
    "        * Learning rate ()\n",
    "        * Multiple rewards ()\n",
    "        * Stochastic rewards ()\n",
    "    (Note that you will have to think about how to represent the time between the stimulus and the reward)."
   ]
  },
  {
   "cell_type": "code",
   "execution_count": null,
   "metadata": {
    "vscode": {
     "languageId": "plaintext"
    }
   },
   "outputs": [],
   "source": []
  }
 ],
 "metadata": {
  "language_info": {
   "name": "python"
  }
 },
 "nbformat": 4,
 "nbformat_minor": 2
}
