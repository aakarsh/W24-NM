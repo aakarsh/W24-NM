{
 "cells": [
  {
   "cell_type": "code",
   "execution_count": 14,
   "metadata": {},
   "outputs": [],
   "source": [
    "import numpy as np\n",
    "import seaborn as sns\n",
    "import matplotlib.pyplot as plt\n",
    "import pandas as pd\n",
    "import random\n",
    "\n",
    "sns.set_theme(style=\"whitegrid\")"
   ]
  },
  {
   "cell_type": "markdown",
   "metadata": {},
   "source": [
    "Generate arrays which correspond to the sequences of presented stimuli and the sequences of presented rewards \n",
    "(ignore time within a trial for this; each entry is one trial). \n",
    "\n",
    "Also, generate an idealised sequence of expectations of rewards of the animal \n",
    "(the expectation occurs after the presentation of the CS but before the potential presentation of a reward)."
   ]
  },
  {
   "cell_type": "code",
   "execution_count": 7,
   "metadata": {},
   "outputs": [
    {
     "name": "stdout",
     "output_type": "stream",
     "text": [
      "stimuli.shape: (2, 100)\n",
      "rewards.shape: (100,)\n"
     ]
    }
   ],
   "source": [
    "num_trials = 100\n",
    "num_stimuli = 2\n",
    "\n",
    "pre_train_start, pre_train_end = 0, 10\n",
    "train_start, train_end = 10, 60\n",
    "result_start, result_end = 60, 100\n",
    "\n",
    "# stimuli \\in \\mathbb{R}^{num_stimuli x num_trials} \n",
    "stimuli = np.zeros((num_stimuli, num_trials))\n",
    "\n",
    "# Rewards \\in \\mathbb{R}^{num_trials}\n",
    "rewards = np.zeros( num_trials)\n",
    "\n",
    "print(f\"stimuli.shape: {stimuli.shape}\")\n",
    "print(f\"rewards.shape: {rewards.shape}\")"
   ]
  },
  {
   "cell_type": "code",
   "execution_count": 8,
   "metadata": {},
   "outputs": [],
   "source": [
    "class RescorlaWagnerLearningRule:\n",
    "\n",
    "    def __init__(self, num_stimuli = None, weights = None):\n",
    "        if weights is not None:\n",
    "            self.weights = np.array(weights)\n",
    "        else:\n",
    "            self.weights = np.zeros((num_stimuli)) \n",
    "\n",
    "    def predict(self, stimuli):\n",
    "        \"\"\"\n",
    "            Linear Prediction Model.\n",
    "        \"\"\"\n",
    "        return self.weights.T @ stimuli\n",
    "    \n",
    "    def train(self, stimuli, reward, epsilon = 0.1):\n",
    "        \"\"\"\n",
    "            Train the model.\n",
    "        \"\"\"\n",
    "        prediction = self.predict(stimuli)\n",
    "        error = reward - prediction\n",
    "        self.weights += epsilon * error * stimuli"
   ]
  },
  {
   "cell_type": "markdown",
   "metadata": {},
   "source": [
    "### Blocking\n"
   ]
  },
  {
   "cell_type": "code",
   "execution_count": 16,
   "metadata": {},
   "outputs": [
    {
     "data": {
      "text/plain": [
       "array([0, 0, 1, 1, 0, 1, 0, 1, 0, 0, 0, 0, 1, 1, 1, 1, 1, 1, 0, 1, 0, 0,\n",
       "       1, 0, 1, 0, 1, 1, 1, 0, 0, 0, 0, 1, 0, 0, 0, 1, 0, 1, 1, 0, 0, 1,\n",
       "       0, 0, 1, 0, 1, 1, 0, 0, 0, 0, 1, 1, 1, 1, 1, 1, 1, 0, 1, 0, 1, 1,\n",
       "       0, 0, 0, 1, 0, 0, 0, 1, 1, 0, 0, 1, 0, 1, 0, 1, 1, 1, 1, 1, 0, 1,\n",
       "       0, 0, 0, 1, 0, 1, 1, 0, 0, 0, 0, 1])"
      ]
     },
     "execution_count": 16,
     "metadata": {},
     "output_type": "execute_result"
    }
   ],
   "source": []
  },
  {
   "cell_type": "code",
   "execution_count": null,
   "metadata": {},
   "outputs": [],
   "source": [
    "class BlockingTrial:\n",
    "    \n",
    "    def __init__(self, num_trials, num_stimuli, model):\n",
    "        \"\"\"\n",
    "        \"\"\"\n",
    "        self.num_trials = num_trials\n",
    "        self.num_stimuli = num_stimuli\n",
    "        \n",
    "        # Initialize stimulus to be a list of zero arrays.\n",
    "        self.stimuli = np.zeros((num_stimuli, num_trials))\n",
    "         \n",
    "        self.rewards = np.zeros(num_trials)\n",
    "        self.prediction = np.zeros(num_trials)\n",
    "        self.model = model\n",
    "        \n",
    "    @staticmethod\n",
    "    def setup_blocking_sr(stimuli, rewards, num_trials, num_stimuli):\n",
    "        \"\"\"\n",
    "        Blocking Effect\n",
    "        \n",
    "        Pre-Training: s_1 -> r\n",
    "        Training: s_1 -> r, s_2 -> r\n",
    "        Result: s_1 -> r, s_2 -> '.' \n",
    "        \"\"\"\n",
    "        # We want to present the stimuli at random positions \n",
    "        stimulus_presented_positions = np.random.choice([0, 1], size=(num_trials))\n",
    "        \n",
    "        # pre-Training\n",
    "        pretrain_stimulus_idx = 0\n",
    "        for trial_idx in range(pre_train_start, pre_train_end):\n",
    "            if stimulus_presented_positions[trial_idx] == 1:\n",
    "                stimuli[pretrain_stimulus_idx, trial_idx] = 1\n",
    "                rewards[trial_idx] = 1\n",
    "            \n",
    "        # In training, multiple stimuli are presented and reward is given\n",
    "        for trail_idx in range(train_start, train_end):\n",
    "            if stimulus_presented_positions[trail_idx] == 1:\n",
    "                for stimulus_idx in range(num_stimuli):\n",
    "                    stimuli[stimulus_idx, trail_idx] = 1\n",
    "                rewards[trail_idx] = 1\n",
    "\n",
    "        # result\n",
    "        \n",
    "        for _ in range(result_start, result_end):\n",
    "            stimuli[0, i] = 1\n"
   ]
  },
  {
   "cell_type": "code",
   "execution_count": null,
   "metadata": {},
   "outputs": [],
   "source": [
    "BlockingTrial"
   ]
  },
  {
   "cell_type": "code",
   "execution_count": null,
   "metadata": {},
   "outputs": [],
   "source": [
    "\n",
    "\n",
    "      \n",
    "        \n",
    "class Experiment:\n",
    "    def __init__(self, model):\n",
    "        self.model = model\n",
    "        self.results = []\n",
    "\n",
    "    def run(self):\n",
    "        prediction = self.model.predict()\n",
    "        self.results.append(prediction)\n",
    "        return prediction    \n",
    "\n",
    "\n",
    "def predict_blocking_model(stimuli, rewards, num_trials, num_stimuli):\n",
    "    \"\"\"\n",
    "    predict the blocking effect\n",
    "    \"\"\"\n",
    "    # result\n",
    "    for i in range(result_start, result_end):\n",
    "        stimuli[0, i] = 1\n",
    "\n",
    "    # calculate the prediction\n",
    "    prediction = np.zeros(num_trials)\n",
    "    for i in range(num_trials):\n",
    "        if i < train_end:\n",
    "            prediction[i] = 1\n",
    "        else:\n",
    "            prediction[i] = 0\n",
    "\n",
    "    return prediction\n",
    "\n",
    "\n",
    "setup_blocking_sr(stimuli, rewards, num_trials, num_stimuli)"
   ]
  },
  {
   "cell_type": "code",
   "execution_count": 9,
   "metadata": {},
   "outputs": [],
   "source": [
    "rwl = RescorlaWagnerLearningRule(num_stimuli, weights=[0.5, 0.5])\n",
    "zero_stimuli = np.zeros((num_stimuli, num_trials))\n",
    "predictions = rwl.predict(zero_stimuli)\n",
    "assert predictions.shape == (num_trials,)\n",
    "assert np.allclose(predictions,np.zeros(num_trials))\n",
    "\n",
    "one_stimuli = np.ones((num_stimuli, num_trials))\n",
    "predictions = rwl.predict(one_stimuli)\n",
    "assert predictions.shape == (num_trials,)\n",
    "assert np.allclose(predictions, np.ones(num_trials)) \n",
    "\n",
    "alternating_stimuli  = np.array([[0, 1] if i % 2 == 0 else [1, 0] for i in range(num_trials)]).T\n",
    "predictions = rwl.predict(alternating_stimuli)\n",
    "assert predictions.shape == (num_trials,)\n",
    "assert np.allclose(predictions, 0.5 * np.ones(num_trials))\n"
   ]
  },
  {
   "cell_type": "code",
   "execution_count": null,
   "metadata": {},
   "outputs": [],
   "source": []
  },
  {
   "cell_type": "code",
   "execution_count": 13,
   "metadata": {},
   "outputs": [
    {
     "ename": "SyntaxError",
     "evalue": "'return' outside function (2612751065.py, line 8)",
     "output_type": "error",
     "traceback": [
      "\u001b[0;36m  Input \u001b[0;32mIn [13]\u001b[0;36m\u001b[0m\n\u001b[0;31m    return stimuli, rewards\u001b[0m\n\u001b[0m    ^\u001b[0m\n\u001b[0;31mSyntaxError\u001b[0m\u001b[0;31m:\u001b[0m 'return' outside function\n"
     ]
    }
   ],
   "source": [
    "        \n",
    "    for i in range(num_trials):\n",
    "        for j in range(num_stimuli):\n",
    "            stimuli[j, i] = np.random.uniform(0, 1)\n",
    "        if stimuli[0, i] > 0.5 and stimuli[1, i] > 0.5:\n",
    "            rewards[i] = 1\n",
    "        else:\n",
    "            rewards[i] = 0\n",
    "    return stimuli, rewards"
   ]
  }
 ],
 "metadata": {
  "kernelspec": {
   "display_name": "spyder-cv",
   "language": "python",
   "name": "python3"
  },
  "language_info": {
   "codemirror_mode": {
    "name": "ipython",
    "version": 3
   },
   "file_extension": ".py",
   "mimetype": "text/x-python",
   "name": "python",
   "nbconvert_exporter": "python",
   "pygments_lexer": "ipython3",
   "version": "3.9.12"
  }
 },
 "nbformat": 4,
 "nbformat_minor": 2
}
